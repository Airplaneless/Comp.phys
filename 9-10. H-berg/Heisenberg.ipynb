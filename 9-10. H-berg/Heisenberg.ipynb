{
 "cells": [
  {
   "cell_type": "code",
   "execution_count": 2,
   "metadata": {},
   "outputs": [],
   "source": [
    "%matplotlib inline\n",
    "from Models import *"
   ]
  },
  {
   "cell_type": "code",
   "execution_count": 3,
   "metadata": {},
   "outputs": [],
   "source": [
    "INTERACTION_ENERGY = 1.0"
   ]
  },
  {
   "cell_type": "code",
   "execution_count": 4,
   "metadata": {},
   "outputs": [
    {
     "name": "stderr",
     "output_type": "stream",
     "text": [
      "Running: 100%|██████████| 50000/50000 [03:52<00:00, 214.97it/s]\n"
     ]
    }
   ],
   "source": [
    "lattice = SpinLattice.build3d_random(8, 8)\n",
    "runner = SimulationRunner(model='Hberg', temperature=0.1, magnetic_field=[0.0, 0.0, 1.0], epoch=50000)\n",
    "results = runner.run(lattice, verbose=True)"
   ]
  },
  {
   "cell_type": "code",
   "execution_count": null,
   "metadata": {},
   "outputs": [
    {
     "name": "stderr",
     "output_type": "stream",
     "text": [
      "Evaluate spin structure:   0%|          | 0/50001 [00:00<?, ?it/s]Models.py:195: ComplexWarning: Casting complex values to real discards the imaginary part\n",
      "  structure_xy[I][J] = xsum ** 2 + ysum ** 2\n",
      "Models.py:196: ComplexWarning: Casting complex values to real discards the imaginary part\n",
      "  structure_z[I][J] = zsum ** 2\n",
      "Evaluate spin structure:  47%|████▋     | 23445/50001 [1:04:56<1:13:33,  6.02it/s]"
     ]
    }
   ],
   "source": [
    "spin_struct_xy, spin_struct_z = SimulationRunner.spin_structure(results, (10, 10))"
   ]
  },
  {
   "cell_type": "code",
   "execution_count": null,
   "metadata": {},
   "outputs": [],
   "source": [
    "plt.imshow(spin_struct_xy)"
   ]
  },
  {
   "cell_type": "code",
   "execution_count": null,
   "metadata": {},
   "outputs": [],
   "source": [
    "plt.imshow(spin_struct_z)"
   ]
  },
  {
   "cell_type": "code",
   "execution_count": null,
   "metadata": {},
   "outputs": [],
   "source": []
  }
 ],
 "metadata": {
  "kernelspec": {
   "display_name": "Python 2",
   "language": "python",
   "name": "python2"
  },
  "language_info": {
   "codemirror_mode": {
    "name": "ipython",
    "version": 2
   },
   "file_extension": ".py",
   "mimetype": "text/x-python",
   "name": "python",
   "nbconvert_exporter": "python",
   "pygments_lexer": "ipython2",
   "version": "2.7.13"
  }
 },
 "nbformat": 4,
 "nbformat_minor": 1
}
