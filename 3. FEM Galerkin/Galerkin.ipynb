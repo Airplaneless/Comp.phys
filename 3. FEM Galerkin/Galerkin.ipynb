{
 "cells": [
  {
   "cell_type": "markdown",
   "metadata": {
    "collapsed": true
   },
   "source": [
    "### Решение уравнения Пуассона методом Галеркина\n",
    "Решения ДУ \n",
    "    $$ \\Delta \\phi(x) = -4 \\pi \\rho(x) $$\n",
    "сводится к решению системы алгебраический линейных уравнений\n",
    "    $$ \\textbf{A}\\vec{a} = \\vec{b} $$\n",
    "где элементы матрицы $\\textbf{A}$ определяются базисными функциями\n",
    "\n",
    "Для того чтобы избежать нахождения обратной матрицы $\\textbf{A}$ она представляется в виде\n",
    "    $$ \\textbf{A} = \\textbf{L} \\textbf{U} $$\n",
    "\n",
    "Тогда решение для решения изначальной системы линейных уравнений решатеся уравнение \n",
    "    $$ \\textbf{L} \\vec{y} = \\vec{b} $$\n",
    "а затем\n",
    "    $$ \\textbf{U} \\vec{a} = \\vec{y} $$\n",
    "\n",
    "#### Таким образом, для решения задачи следует\n",
    "##### 1. Найти вектор $\\vec{b}$\n",
    "##### 2. Найти матрицу $\\textbf{A}$\n",
    "##### 3. Решить систему $ \\textbf{L} \\vec{y} = \\vec{b} $\n",
    "##### 4. Решить систему $ \\textbf{U} \\vec{a} = \\vec{y} $"
   ]
  },
  {
   "cell_type": "code",
   "execution_count": 1,
   "metadata": {},
   "outputs": [],
   "source": [
    "from math import pi\n",
    "from tqdm import tqdm\n",
    "import matplotlib.pylab as plt"
   ]
  },
  {
   "cell_type": "markdown",
   "metadata": {},
   "source": [
    "#### Элементы вектора $\\vec{b}$ определяется как\n",
    "$$ b_i = \\int_{1}^{0} \\rho(x) w_i(x) dx$$\n",
    "где $w_i(x)$ - базисные функции\n",
    "\n",
    "$$ w_i(x) = \n",
    "\\begin{cases}\n",
    "\t\\frac{x - x_{i-1}}{\\delta x} & x \\in \\mid x_{i-1}, x_{i} \\mid \\\\\n",
    "    \\frac{x_{i+1} - x}{\\delta x} & x \\in \\mid x_{i}, x_{i+1} \\mid \\\\\n",
    "    0\n",
    "\\end{cases} $$\n",
    "\n",
    "$$ \\rho(x) =\n",
    "\\begin{cases}\n",
    "\tx^2,  x \\in [0, 0.5] \\\\\n",
    "    (1 - x)^2,  x \\in [0.5, 1] \\\\\n",
    "\\end{cases} $$\n",
    "\n",
    "Тогда\n",
    "$$ \\vec{b} =\n",
    "\\begin{cases}\n",
    "    4 \\pi (\\frac{(x_{i+1}^4 + x_{i-1}^4)}{12 h} - \\frac{x_{i}^3 (x_{i+1} + x_{i-1})}{3 h} + \\frac{x_{i}^4}{2 h}), x \\in [0, 0.5] \\\\\n",
    "    4 \\pi (\\frac{(x_{i-1} - x_{i})^2 (6 + x_{i-1}^2 + 2 x_{i-1} (-2 + x_{i}) - 8 x_{i} + 3 x_{i}^2)}{12 h} + \\frac{(x_{i} - x_{i+1})^2 (6 + x_{i}^2 + 2 x_{i} (-4 + x_{i+1}) - 4 x_{i+1} + x_{i+1}^2)}{12 h}),  x \\in [0.5, 1] \\\\\n",
    "\\end{cases} $$"
   ]
  },
  {
   "cell_type": "code",
   "execution_count": null,
   "metadata": {},
   "outputs": [],
   "source": [
    "def b_element(i, x, h):\n",
    "    boundIndex = len(x)/2\n",
    "    if i==0 or i==boundIndex*2:\n",
    "        return 0\n",
    "    else:\n",
    "        if i < boundIndex:\n",
    "            a1 = (x[i+1]**4 + x[i-1]**4) / (12*h)\n",
    "            a2 = - (x[i]**3 * (x[i+1] + x[i-1])) / (3*h)\n",
    "            a3 = x[i]**4 / (2*h)\n",
    "            return 4*pi*(a1+a2+a3)\n",
    "        else:\n",
    "            a1 = (x[i-1] - x[i])**2 * (6 + x[i-1]**2 + 2*x[i-1]*(-2 + x[i]) - 8*x[i] + 3*x[i]**2) / (12*h)\n",
    "            a2 = (x[i] - x[i+1])**2 * (6 + x[i]**2 + 2*x[i]*(-4 + x[i+1]) - 4*x[i+1] + x[i+1]**2) / (12*h)\n",
    "            return 4*pi*(a1+a2)"
   ]
  },
  {
   "cell_type": "markdown",
   "metadata": {},
   "source": [
    "#### Нахождение решения линейного уравнения $ \\textbf{L} \\vec{y} = \\vec{b} $"
   ]
  },
  {
   "cell_type": "code",
   "execution_count": 3,
   "metadata": {},
   "outputs": [],
   "source": [
    "def evaluate_L_lineqsys(x, h):\n",
    "    y = list()\n",
    "    u = list()\n",
    "    w = list()\n",
    "    w.append(2.0 / h)\n",
    "    y.append(b_element(0, x, h)/w[-1])\n",
    "    for i in xrange(len(x)-1):\n",
    "        # new values are now old\n",
    "        u.append((- 1 / (h*w[-1]))) \n",
    "        w.append((2.0 / h) + (1.0 / h) * u[-1])\n",
    "        y.append((b_element(i, x, h) + (1.0 / h) * y[-1])/w[-1])\n",
    "    return [y, u, w]"
   ]
  },
  {
   "cell_type": "markdown",
   "metadata": {},
   "source": [
    "#### Нахождение решения линейного уравнения $ \\textbf{U} \\vec{a} = \\vec{y} $"
   ]
  },
  {
   "cell_type": "code",
   "execution_count": 4,
   "metadata": {},
   "outputs": [],
   "source": [
    "def evaluate_U_lineqsys(y, u):\n",
    "    a = list()\n",
    "    a.append(y[-1])\n",
    "    for i in xrange(len(y)-1):\n",
    "        a.append(y[-i] - u[-i]*a[-1])\n",
    "    a = list(reversed(a))\n",
    "    return a"
   ]
  },
  {
   "cell_type": "code",
   "execution_count": 5,
   "metadata": {},
   "outputs": [],
   "source": [
    "h = 0.0001\n",
    "x = [i*h for i in range(0, int(1/h))]"
   ]
  },
  {
   "cell_type": "code",
   "execution_count": 6,
   "metadata": {},
   "outputs": [],
   "source": [
    "y, u, w = evaluate_L_lineqsys(x, h)"
   ]
  },
  {
   "cell_type": "code",
   "execution_count": 7,
   "metadata": {},
   "outputs": [],
   "source": [
    "a = evaluate_U_lineqsys(y, u)"
   ]
  },
  {
   "cell_type": "code",
   "execution_count": 23,
   "metadata": {},
   "outputs": [
    {
     "data": {
      "image/png": "[encoded data removed]",
      "text/plain": [
       "<matplotlib.figure.Figure at 0x7f90585dad50>"
      ]
     },
     "metadata": {},
     "output_type": "display_data"
    }
   ],
   "source": [
    "plt.figure(figsize=(10,8))\n",
    "plt.plot(x, a, 'g')\n",
    "plt.xlabel('x')\n",
    "plt.ylabel('$\\phi(x)$')\n",
    "plt.show()"
   ]
  },
  {
   "cell_type": "code",
   "execution_count": null,
   "metadata": {
    "collapsed": true
   },
   "outputs": [],
   "source": []
  }
 ],
 "metadata": {
  "kernelspec": {
   "display_name": "Python 2",
   "language": "python",
   "name": "python2"
  },
  "language_info": {
   "codemirror_mode": {
    "name": "ipython",
    "version": 2
   },
   "file_extension": ".py",
   "mimetype": "text/x-python",
   "name": "python",
   "nbconvert_exporter": "python",
   "pygments_lexer": "ipython2",
   "version": "2.7.13"
  }
 },
 "nbformat": 4,
 "nbformat_minor": 1
}
