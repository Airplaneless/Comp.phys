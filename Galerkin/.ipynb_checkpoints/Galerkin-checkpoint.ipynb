{
 "cells": [
  {
   "cell_type": "code",
   "execution_count": 1,
   "metadata": {
    "collapsed": true
   },
   "outputs": [],
   "source": [
    "from math import pi\n",
    "import matplotlib.pylab as plt"
   ]
  },
  {
   "cell_type": "code",
   "execution_count": 2,
   "metadata": {
    "collapsed": true
   },
   "outputs": [],
   "source": [
    "def b_element(i, x, h):\n",
    "    \"\"\"\n",
    "    i: index of b\n",
    "    x: coordinate list\n",
    "    h: mesh size\n",
    "    \"\"\"\n",
    "    boundIndex = len(x)/2\n",
    "    if i==0 or i==boundIndex*2:\n",
    "        return 0\n",
    "    else:\n",
    "        if i < boundIndex:\n",
    "            a1 = (x[i+1]**4 + x[i-1]**4) / (12*h)\n",
    "            a2 = - (x[i]**3 * (x[i+1] + x[i-1])) / (3*h)\n",
    "            a3 = x[i]**4 / (2*h)\n",
    "            return 4*pi*(a1+a2+a3)\n",
    "        else:\n",
    "            a1 = (x[i-1] - x[i])**2 * (6 + x[i-1]**2 + 2*x[i-1]*(-2 + x[i]) - 8*x[i] + 3*x[i]**2) / (12*h)\n",
    "            a2 = (x[i] - x[i+1])**2 * (6 + x[i]**2 + 2*x[i]*(-4 + x[i+1]) - 4*x[i+1] + x[i+1]**2) / (12*h)\n",
    "            return 4*pi*(a1+a2)"
   ]
  },
  {
   "cell_type": "code",
   "execution_count": 3,
   "metadata": {},
   "outputs": [],
   "source": [
    "def evaluate_L_lineqsys(x, h):\n",
    "    y = list()\n",
    "    u = list()\n",
    "    w = list()\n",
    "    w.append(2.0 / h)\n",
    "    y.append(b_element(0, x, h)/w[-1])\n",
    "    for i in range(len(x)-1):\n",
    "        # new values are now old\n",
    "        u.append((- 1 / (h*w[-1]))) \n",
    "        w.append((2.0 / h) + (1.0 / h) * u[-1])\n",
    "        y.append((b_element(i, x, h) + (1.0 / h) * y[-1])/w[-1])\n",
    "    return [y, u, w]       "
   ]
  },
  {
   "cell_type": "code",
   "execution_count": 4,
   "metadata": {
    "collapsed": true
   },
   "outputs": [],
   "source": [
    "def evaluate_U_lineqsys(y, u):\n",
    "    a = list()\n",
    "    a.append(y[-1])\n",
    "    for i in range(len(y)-1):\n",
    "        a.append(y[-i] - u[-i]*a[-1])\n",
    "    a = list(reversed(a))\n",
    "    return a"
   ]
  },
  {
   "cell_type": "code",
   "execution_count": 5,
   "metadata": {},
   "outputs": [],
   "source": [
    "h = 0.01\n",
    "x = [i*h for i in range(0, int(1/h))]"
   ]
  },
  {
   "cell_type": "code",
   "execution_count": 6,
   "metadata": {},
   "outputs": [],
   "source": [
    "y, u, w = evaluate_L_lineqsys(x, h)"
   ]
  },
  {
   "cell_type": "code",
   "execution_count": 7,
   "metadata": {},
   "outputs": [],
   "source": [
    "a = evaluate_U_lineqsys(y, u)"
   ]
  },
  {
   "cell_type": "code",
   "execution_count": 8,
   "metadata": {},
   "outputs": [
    {
     "data": {
      "image/png": "[encoded data removed]",
      "text/plain": [
       "<matplotlib.figure.Figure at 0x7f533be7e4d0>"
      ]
     },
     "metadata": {},
     "output_type": "display_data"
    }
   ],
   "source": [
    "plt.plot(x, a)\n",
    "plt.show()"
   ]
  },
  {
   "cell_type": "code",
   "execution_count": 9,
   "metadata": {},
   "outputs": [
    {
     "data": {
      "text/plain": [
       "[-0.5,\n",
       " -0.6666666666666666,\n",
       " -0.7499999999999999,\n",
       " -0.7999999999999998,\n",
       " -0.8333333333333333,\n",
       " -0.8571428571428571,\n",
       " -0.8749999999999999,\n",
       " -0.8888888888888887,\n",
       " -0.8999999999999998,\n",
       " -0.9090909090909091,\n",
       " -0.9166666666666665,\n",
       " -0.9230769230769229,\n",
       " -0.9285714285714284,\n",
       " -0.9333333333333331,\n",
       " -0.9374999999999998,\n",
       " -0.9411764705882351,\n",
       " -0.9444444444444442,\n",
       " -0.9473684210526313,\n",
       " -0.9499999999999998,\n",
       " -0.9523809523809521,\n",
       " -0.9545454545454543,\n",
       " -0.9565217391304344,\n",
       " -0.9583333333333329,\n",
       " -0.9599999999999995,\n",
       " -0.9615384615384611,\n",
       " -0.9629629629629627,\n",
       " -0.964285714285714,\n",
       " -0.96551724137931,\n",
       " -0.9666666666666663,\n",
       " -0.9677419354838707,\n",
       " -0.9687499999999996,\n",
       " -0.9696969696969693,\n",
       " -0.9705882352941173,\n",
       " -0.9714285714285711,\n",
       " -0.9722222222222219,\n",
       " -0.9729729729729727,\n",
       " -0.9736842105263154,\n",
       " -0.9743589743589739,\n",
       " -0.9749999999999994,\n",
       " -0.9756097560975604,\n",
       " -0.9761904761904757,\n",
       " -0.9767441860465113,\n",
       " -0.9772727272727268,\n",
       " -0.9777777777777774,\n",
       " -0.9782608695652171,\n",
       " -0.9787234042553189,\n",
       " -0.9791666666666663,\n",
       " -0.9795918367346935,\n",
       " -0.9799999999999998,\n",
       " -0.9803921568627448,\n",
       " -0.9807692307692306,\n",
       " -0.981132075471698,\n",
       " -0.9814814814814815,\n",
       " -0.9818181818181817,\n",
       " -0.982142857142857,\n",
       " -0.982456140350877,\n",
       " -0.9827586206896549,\n",
       " -0.9830508474576269,\n",
       " -0.9833333333333332,\n",
       " -0.983606557377049,\n",
       " -0.9838709677419353,\n",
       " -0.984126984126984,\n",
       " -0.9843749999999999,\n",
       " -0.9846153846153844,\n",
       " -0.9848484848484846,\n",
       " -0.9850746268656715,\n",
       " -0.9852941176470588,\n",
       " -0.9855072463768114,\n",
       " -0.9857142857142854,\n",
       " -0.985915492957746,\n",
       " -0.9861111111111107,\n",
       " -0.9863013698630133,\n",
       " -0.9864864864864862,\n",
       " -0.9866666666666664,\n",
       " -0.9868421052631576,\n",
       " -0.9870129870129869,\n",
       " -0.9871794871794871,\n",
       " -0.9873417721518988,\n",
       " -0.9874999999999999,\n",
       " -0.9876543209876544,\n",
       " -0.9878048780487807,\n",
       " -0.9879518072289158,\n",
       " -0.9880952380952384,\n",
       " -0.9882352941176473,\n",
       " -0.9883720930232561,\n",
       " -0.9885057471264372,\n",
       " -0.988636363636364,\n",
       " -0.9887640449438205,\n",
       " -0.9888888888888893,\n",
       " -0.9890109890109895,\n",
       " -0.9891304347826092,\n",
       " -0.9892473118279573,\n",
       " -0.9893617021276601,\n",
       " -0.9894736842105267,\n",
       " -0.9895833333333337,\n",
       " -0.9896907216494849,\n",
       " -0.9897959183673471,\n",
       " -0.98989898989899,\n",
       " -0.99]"
      ]
     },
     "execution_count": 9,
     "metadata": {},
     "output_type": "execute_result"
    }
   ],
   "source": [
    "u"
   ]
  },
  {
   "cell_type": "code",
   "execution_count": 10,
   "metadata": {},
   "outputs": [
    {
     "ename": "IndexError",
     "evalue": "list index out of range",
     "output_type": "error",
     "traceback": [
      "\u001b[0;31m---------------------------------------------------------------------------\u001b[0m",
      "\u001b[0;31mIndexError\u001b[0m                                Traceback (most recent call last)",
      "\u001b[0;32m<ipython-input-10-22f3c3198058>\u001b[0m in \u001b[0;36m<module>\u001b[0;34m()\u001b[0m\n\u001b[0;32m----> 1\u001b[0;31m \u001b[0;34m[\u001b[0m\u001b[0mb_element\u001b[0m\u001b[0;34m(\u001b[0m\u001b[0mi\u001b[0m\u001b[0;34m,\u001b[0m\u001b[0mx\u001b[0m\u001b[0;34m,\u001b[0m\u001b[0mh\u001b[0m\u001b[0;34m)\u001b[0m \u001b[0;32mfor\u001b[0m \u001b[0mi\u001b[0m \u001b[0;32min\u001b[0m \u001b[0mrange\u001b[0m\u001b[0;34m(\u001b[0m\u001b[0mlen\u001b[0m\u001b[0;34m(\u001b[0m\u001b[0mx\u001b[0m\u001b[0;34m)\u001b[0m\u001b[0;34m)\u001b[0m\u001b[0;34m]\u001b[0m\u001b[0;34m\u001b[0m\u001b[0m\n\u001b[0m",
      "\u001b[0;32m<ipython-input-2-8e332b726039>\u001b[0m in \u001b[0;36mb_element\u001b[0;34m(i, x, h)\u001b[0m\n\u001b[1;32m     16\u001b[0m         \u001b[0;32melse\u001b[0m\u001b[0;34m:\u001b[0m\u001b[0;34m\u001b[0m\u001b[0m\n\u001b[1;32m     17\u001b[0m             \u001b[0ma1\u001b[0m \u001b[0;34m=\u001b[0m \u001b[0;34m(\u001b[0m\u001b[0mx\u001b[0m\u001b[0;34m[\u001b[0m\u001b[0mi\u001b[0m\u001b[0;34m-\u001b[0m\u001b[0;36m1\u001b[0m\u001b[0;34m]\u001b[0m \u001b[0;34m-\u001b[0m \u001b[0mx\u001b[0m\u001b[0;34m[\u001b[0m\u001b[0mi\u001b[0m\u001b[0;34m]\u001b[0m\u001b[0;34m)\u001b[0m\u001b[0;34m**\u001b[0m\u001b[0;36m2\u001b[0m \u001b[0;34m*\u001b[0m \u001b[0;34m(\u001b[0m\u001b[0;36m6\u001b[0m \u001b[0;34m+\u001b[0m \u001b[0mx\u001b[0m\u001b[0;34m[\u001b[0m\u001b[0mi\u001b[0m\u001b[0;34m-\u001b[0m\u001b[0;36m1\u001b[0m\u001b[0;34m]\u001b[0m\u001b[0;34m**\u001b[0m\u001b[0;36m2\u001b[0m \u001b[0;34m+\u001b[0m \u001b[0;36m2\u001b[0m\u001b[0;34m*\u001b[0m\u001b[0mx\u001b[0m\u001b[0;34m[\u001b[0m\u001b[0mi\u001b[0m\u001b[0;34m-\u001b[0m\u001b[0;36m1\u001b[0m\u001b[0;34m]\u001b[0m\u001b[0;34m*\u001b[0m\u001b[0;34m(\u001b[0m\u001b[0;34m-\u001b[0m\u001b[0;36m2\u001b[0m \u001b[0;34m+\u001b[0m \u001b[0mx\u001b[0m\u001b[0;34m[\u001b[0m\u001b[0mi\u001b[0m\u001b[0;34m]\u001b[0m\u001b[0;34m)\u001b[0m \u001b[0;34m-\u001b[0m \u001b[0;36m8\u001b[0m\u001b[0;34m*\u001b[0m\u001b[0mx\u001b[0m\u001b[0;34m[\u001b[0m\u001b[0mi\u001b[0m\u001b[0;34m]\u001b[0m \u001b[0;34m+\u001b[0m \u001b[0;36m3\u001b[0m\u001b[0;34m*\u001b[0m\u001b[0mx\u001b[0m\u001b[0;34m[\u001b[0m\u001b[0mi\u001b[0m\u001b[0;34m]\u001b[0m\u001b[0;34m**\u001b[0m\u001b[0;36m2\u001b[0m\u001b[0;34m)\u001b[0m \u001b[0;34m/\u001b[0m \u001b[0;34m(\u001b[0m\u001b[0;36m12\u001b[0m\u001b[0;34m*\u001b[0m\u001b[0mh\u001b[0m\u001b[0;34m)\u001b[0m\u001b[0;34m\u001b[0m\u001b[0m\n\u001b[0;32m---> 18\u001b[0;31m             \u001b[0ma2\u001b[0m \u001b[0;34m=\u001b[0m \u001b[0;34m(\u001b[0m\u001b[0mx\u001b[0m\u001b[0;34m[\u001b[0m\u001b[0mi\u001b[0m\u001b[0;34m]\u001b[0m \u001b[0;34m-\u001b[0m \u001b[0mx\u001b[0m\u001b[0;34m[\u001b[0m\u001b[0mi\u001b[0m\u001b[0;34m+\u001b[0m\u001b[0;36m1\u001b[0m\u001b[0;34m]\u001b[0m\u001b[0;34m)\u001b[0m\u001b[0;34m**\u001b[0m\u001b[0;36m2\u001b[0m \u001b[0;34m*\u001b[0m \u001b[0;34m(\u001b[0m\u001b[0;36m6\u001b[0m \u001b[0;34m+\u001b[0m \u001b[0mx\u001b[0m\u001b[0;34m[\u001b[0m\u001b[0mi\u001b[0m\u001b[0;34m]\u001b[0m\u001b[0;34m**\u001b[0m\u001b[0;36m2\u001b[0m \u001b[0;34m+\u001b[0m \u001b[0;36m2\u001b[0m\u001b[0;34m*\u001b[0m\u001b[0mx\u001b[0m\u001b[0;34m[\u001b[0m\u001b[0mi\u001b[0m\u001b[0;34m]\u001b[0m\u001b[0;34m*\u001b[0m\u001b[0;34m(\u001b[0m\u001b[0;34m-\u001b[0m\u001b[0;36m4\u001b[0m \u001b[0;34m+\u001b[0m \u001b[0mx\u001b[0m\u001b[0;34m[\u001b[0m\u001b[0mi\u001b[0m\u001b[0;34m+\u001b[0m\u001b[0;36m1\u001b[0m\u001b[0;34m]\u001b[0m\u001b[0;34m)\u001b[0m \u001b[0;34m-\u001b[0m \u001b[0;36m4\u001b[0m\u001b[0;34m*\u001b[0m\u001b[0mx\u001b[0m\u001b[0;34m[\u001b[0m\u001b[0mi\u001b[0m\u001b[0;34m+\u001b[0m\u001b[0;36m1\u001b[0m\u001b[0;34m]\u001b[0m \u001b[0;34m+\u001b[0m \u001b[0mx\u001b[0m\u001b[0;34m[\u001b[0m\u001b[0mi\u001b[0m\u001b[0;34m+\u001b[0m\u001b[0;36m1\u001b[0m\u001b[0;34m]\u001b[0m\u001b[0;34m**\u001b[0m\u001b[0;36m2\u001b[0m\u001b[0;34m)\u001b[0m \u001b[0;34m/\u001b[0m \u001b[0;34m(\u001b[0m\u001b[0;36m12\u001b[0m\u001b[0;34m*\u001b[0m\u001b[0mh\u001b[0m\u001b[0;34m)\u001b[0m\u001b[0;34m\u001b[0m\u001b[0m\n\u001b[0m\u001b[1;32m     19\u001b[0m             \u001b[0;32mreturn\u001b[0m \u001b[0;36m4\u001b[0m\u001b[0;34m*\u001b[0m\u001b[0mpi\u001b[0m\u001b[0;34m*\u001b[0m\u001b[0;34m(\u001b[0m\u001b[0ma1\u001b[0m\u001b[0;34m+\u001b[0m\u001b[0ma2\u001b[0m\u001b[0;34m)\u001b[0m\u001b[0;34m\u001b[0m\u001b[0m\n",
      "\u001b[0;31mIndexError\u001b[0m: list index out of range"
     ]
    }
   ],
   "source": [
    "[b_element(i,x,h) for i in range(len(x))]"
   ]
  },
  {
   "cell_type": "code",
   "execution_count": null,
   "metadata": {},
   "outputs": [],
   "source": [
    "(2.0 / h) + (1.0 / h) * "
   ]
  },
  {
   "cell_type": "code",
   "execution_count": null,
   "metadata": {},
   "outputs": [],
   "source": [
    "200.0/0.01"
   ]
  },
  {
   "cell_type": "code",
   "execution_count": null,
   "metadata": {
    "collapsed": true
   },
   "outputs": [],
   "source": []
  }
 ],
 "metadata": {
  "kernelspec": {
   "display_name": "Python 2",
   "language": "python",
   "name": "python2"
  },
  "language_info": {
   "codemirror_mode": {
    "name": "ipython",
    "version": 2
   },
   "file_extension": ".py",
   "mimetype": "text/x-python",
   "name": "python",
   "nbconvert_exporter": "python",
   "pygments_lexer": "ipython2",
   "version": "2.7.13"
  }
 },
 "nbformat": 4,
 "nbformat_minor": 2
}
