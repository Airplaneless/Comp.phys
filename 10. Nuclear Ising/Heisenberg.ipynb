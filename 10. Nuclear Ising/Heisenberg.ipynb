{
 "cells": [
  {
   "cell_type": "code",
   "execution_count": 2,
   "metadata": {},
   "outputs": [],
   "source": [
    "import numpy as np\n",
    "from tqdm import tqdm\n",
    "import matplotlib.pylab as plt\n",
    "import matplotlib.animation as animation\n",
    "%matplotlib notebook"
   ]
  },
  {
   "cell_type": "code",
   "execution_count": 3,
   "metadata": {},
   "outputs": [],
   "source": [
    "J = -1.0"
   ]
  },
  {
   "cell_type": "code",
   "execution_count": 4,
   "metadata": {},
   "outputs": [],
   "source": [
    "def spin_interaction(sconfig, i, j):\n",
    "    idx = i+1 if i+1 < sconfig.shape[0] else 0\n",
    "    jdx = j+1 if j+1 < sconfig.shape[1] else 0\n",
    "    return J*np.dot(sconfig[i][j], (sconfig[idx][j] + sconfig[i][jdx] + sconfig[i-1][j] + sconfig[i][j-1]))\n",
    "\n",
    "def energy(sconfig):\n",
    "    nrj = 0\n",
    "    for j in range(sconfig.shape[0]):\n",
    "        for i in range(sconfig.shape[1]):\n",
    "            idx = i+1 if i+1 < sconfig.shape[0] else 0\n",
    "            jdx = j+1 if j+1 < sconfig.shape[1] else 0\n",
    "            nrj += J*np.dot(sconfig[i][j], (sconfig[idx][j] + sconfig[i][jdx]))\n",
    "    return nrj\n",
    "\n",
    "def magnetization(sconfig):\n",
    "    return np.sum(sconfig) / float(sconfig.shape[0]*sconfig.shape[1])\n",
    "\n",
    "def metropolis(sconfig, temp):\n",
    "    mat = sconfig.copy()\n",
    "    for i in range(sconfig.shape[0]):\n",
    "        for j in range(sconfig.shape[1]):\n",
    "            randvec = np.random.rand(1,3)[0]*((-1)**np.random.randint(0, 2))/10.0\n",
    "            e0 = spin_interaction(mat, i, j)\n",
    "            old = mat[i][j].copy()\n",
    "            mat[i][j] += randvec\n",
    "            mat[j][i] /= np.linalg.norm(mat[j][i])\n",
    "            e1 = spin_interaction(mat, i, j)\n",
    "            if (e1-e0) < 0:\n",
    "                pass\n",
    "            else:\n",
    "                if np.random.rand() <= np.exp(-(e1-e0)/temp):\n",
    "                    mat[j][i] = old\n",
    "    return mat\n",
    "\n",
    "\n",
    "def run(sconfig, temp, max_epoch, verbose=False):\n",
    "    mags = list()\n",
    "    energies = list()\n",
    "    mean_energy = 0\n",
    "    mean_mag = 0\n",
    "    lattices = list()\n",
    "    new = metropolis(sconfig, temp)\n",
    "    for t in tqdm(xrange(max_epoch), disable = not verbose):\n",
    "        a = metropolis(new, temp)\n",
    "        mags.append(magnetization(a))\n",
    "        energies.append(energy(a))\n",
    "        new = a\n",
    "        lattices.append(new)\n",
    "    return lattices, energies, mags"
   ]
  },
  {
   "cell_type": "code",
   "execution_count": 5,
   "metadata": {},
   "outputs": [],
   "source": [
    "init_spins = np.random.rand(8,8,3)\n",
    "#init_spins = np.ones((64, 64, 3))\n",
    "\n",
    "temperatures = np.arange(0.5, 5, 0.2)"
   ]
  },
  {
   "cell_type": "code",
   "execution_count": 6,
   "metadata": {},
   "outputs": [
    {
     "name": "stderr",
     "output_type": "stream",
     "text": [
      "100%|██████████| 10000/10000 [00:32<00:00, 309.92it/s]\n"
     ]
    }
   ],
   "source": [
    "lattices, E, M = run(init_spins, temp=2.0, max_epoch=10000, verbose=True)"
   ]
  },
  {
   "cell_type": "code",
   "execution_count": null,
   "metadata": {},
   "outputs": [],
   "source": [
    "fig = plt.figure(figsize=(6,6))\n",
    "plt.title('Iteration = 0')\n",
    "im = plt.imshow(lattices[0], interpolation='bilinear')\n",
    "\n",
    "def update(j):\n",
    "    im.set_array(lattices[j])\n",
    "    plt.title('Iteration = {}'.format(j))\n",
    "    return im\n",
    "\n",
    "ani = animation.FuncAnimation(fig, update, frames=len(lattices), blit=True)"
   ]
  },
  {
   "cell_type": "code",
   "execution_count": null,
   "metadata": {},
   "outputs": [],
   "source": [
    "plt.figure(figsize=(9,5))\n",
    "plt.subplot(121)\n",
    "plt.plot(np.arange(len(M)), M, 'g--')\n",
    "plt.title('Convergence of magnetization')\n",
    "plt.xlabel('Time')\n",
    "plt.ylabel('Mag')\n",
    "\n",
    "plt.subplot(122)\n",
    "plt.plot(np.arange(len(E)), E, 'r--')\n",
    "plt.title('Convergence of energy')\n",
    "plt.xlabel('Time')\n",
    "plt.ylabel('Energy')\n",
    "\n",
    "plt.show()"
   ]
  },
  {
   "cell_type": "code",
   "execution_count": null,
   "metadata": {},
   "outputs": [],
   "source": [
    "configs = list()\n",
    "E_ls = list()\n",
    "M_ls = list()\n",
    "for t in tqdm(temperatures):\n",
    "    new_spins, E, M = run(init_spins, temp=t, max_epoch=10000)\n",
    "    configs.append(new_spins)\n",
    "    E_ls.append(E)\n",
    "    M_ls.append(M)"
   ]
  },
  {
   "cell_type": "code",
   "execution_count": null,
   "metadata": {},
   "outputs": [],
   "source": [
    "plt.figure(figsize=(9,5))\n",
    "plt.subplot(121)\n",
    "plt.plot(temperatures, [np.mean(E_ls[i]) for i in range(len(E_ls))], 'rs--')\n",
    "plt.title('Mean Energy')\n",
    "plt.xlabel('Temperature')\n",
    "plt.ylabel('Energy')\n",
    "\n",
    "\n",
    "plt.subplot(122)\n",
    "plt.plot(temperatures, [np.mean(M_ls[i]) for i in range(len(M_ls))], 'gs--')\n",
    "plt.title('Mean Mags')\n",
    "plt.xlabel('Temperature')\n",
    "plt.ylabel('Mag')\n",
    "plt.show()"
   ]
  },
  {
   "cell_type": "code",
   "execution_count": null,
   "metadata": {},
   "outputs": [],
   "source": []
  }
 ],
 "metadata": {
  "kernelspec": {
   "display_name": "Python 2",
   "language": "python",
   "name": "python2"
  },
  "language_info": {
   "codemirror_mode": {
    "name": "ipython",
    "version": 2
   },
   "file_extension": ".py",
   "mimetype": "text/x-python",
   "name": "python",
   "nbconvert_exporter": "python",
   "pygments_lexer": "ipython2",
   "version": "2.7.14"
  }
 },
 "nbformat": 4,
 "nbformat_minor": 1
}
