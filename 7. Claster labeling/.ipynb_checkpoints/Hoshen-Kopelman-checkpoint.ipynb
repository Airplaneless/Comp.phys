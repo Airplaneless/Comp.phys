{
 "cells": [
  {
   "cell_type": "code",
   "execution_count": 1,
   "metadata": {
    "collapsed": true
   },
   "outputs": [],
   "source": [
    "import numpy as np\n",
    "from numpy.random import rand\n",
    "import matplotlib.pyplot as plt"
   ]
  },
  {
   "cell_type": "code",
   "execution_count": 2,
   "metadata": {
    "collapsed": true
   },
   "outputs": [],
   "source": [
    "def percolate_decor(f):\n",
    "    def wrapper(shape_x, shape_y, p):\n",
    "        if wrapper.init:\n",
    "            wrapper.init = False\n",
    "            wrapper.mat = rand(shape_x, shape_y)\n",
    "        mat = np.zeros(wrapper.mat.shape)\n",
    "        for j in range(len(wrapper.mat)):\n",
    "            for i in range(len(wrapper.mat[j])):\n",
    "                mat[j][i] = 1 if wrapper.mat[j][i] < p else 0\n",
    "        return mat\n",
    "    wrapper.init = True\n",
    "    return wrapper\n",
    "\n",
    "@percolate_decor\n",
    "def percolate(shape_x, shape_y, p):\n",
    "    pass"
   ]
  },
  {
   "cell_type": "code",
   "execution_count": 3,
   "metadata": {
    "collapsed": true
   },
   "outputs": [],
   "source": [
    "def clasterize(A):\n",
    "    mat = np.zeros(A.shape)\n",
    "    maxL = 1\n",
    "    def union(a, b):\n",
    "        for i in range(len(mat)):\n",
    "            for j in range(len(mat[i])):\n",
    "                mat[i][j] = b if mat[i][j] == a else mat[i][j]\n",
    "    for i in range(len(A)):\n",
    "        for j in range(len(A[i])):\n",
    "            if A[i][j]:\n",
    "                if mat[i-1][j] == 0 and mat[i][j-1] == 0:\n",
    "                    mat[i][j] = maxL\n",
    "                    maxL += 1\n",
    "                if mat[i-1][j] != 0 and mat[i][j-1] == 0:\n",
    "                    mat[i][j] = mat[i-1][j]\n",
    "                if mat[i-1][j] == 0 and mat[i][j-1] != 0:\n",
    "                    mat[i][j] = mat[i][j-1]\n",
    "                if mat[i-1][j] != 0 and mat[i][j-1] != 0:\n",
    "                    union(mat[i-1][j], mat[i][j-1])\n",
    "                    mat[i][j] = mat[i-1][j]\n",
    "    return mat           "
   ]
  },
  {
   "cell_type": "code",
   "execution_count": 17,
   "metadata": {
    "collapsed": true
   },
   "outputs": [],
   "source": [
    "def vcoupled(A):\n",
    "    T = set(A[0])\n",
    "    B = set(A[-1])\n",
    "    if T&B - {0.0}:\n",
    "        return True\n",
    "    else:\n",
    "        return False"
   ]
  },
  {
   "cell_type": "markdown",
   "metadata": {},
   "source": [
    "## Маркировка класстеров на решетке 16х16 с р=0.7 и нахождение соединяющего класстера"
   ]
  },
  {
   "cell_type": "code",
   "execution_count": 18,
   "metadata": {
    "scrolled": false
   },
   "outputs": [
    {
     "data": {
      "image/png": "[encoded data removed]",
      "text/plain": [
       "<matplotlib.figure.Figure at 0x7f9eb85ed950>"
      ]
     },
     "metadata": {},
     "output_type": "display_data"
    },
    {
     "name": "stdout",
     "output_type": "stream",
     "text": [
      "is vertical cupled? True\n"
     ]
    },
    {
     "data": {
      "image/png": "[encoded data removed]",
      "text/plain": [
       "<matplotlib.figure.Figure at 0x7f9eb854fb90>"
      ]
     },
     "metadata": {},
     "output_type": "display_data"
    }
   ],
   "source": [
    "percolate.init = True\n",
    "A = percolate(16,16,0.7)\n",
    "plt.figure(figsize=(10,10))\n",
    "plt.imshow(A, cmap=plt.cm.jet)\n",
    "plt.show()\n",
    "\n",
    "AL = clasterize(A)\n",
    "print \"is vertical cupled? {}\".format(vcoupled(AL))\n",
    "\n",
    "fig = plt.figure(figsize=(10,10))\n",
    "plt.clf()\n",
    "ax = fig.add_subplot(111)\n",
    "ax.set_aspect(1)\n",
    "res = ax.imshow(AL, cmap=plt.cm.jet)\n",
    "for x in xrange(AL.shape[0]):\n",
    "    for y in xrange(AL.shape[1]):\n",
    "        ax.annotate(str(AL[x][y]), xy=(y, x), \n",
    "                    horizontalalignment='center',\n",
    "                    verticalalignment='center')\n",
    "plt.imshow(AL, cmap=plt.cm.jet)\n",
    "plt.show()\n",
    "plt.close()"
   ]
  },
  {
   "cell_type": "code",
   "execution_count": 19,
   "metadata": {
    "collapsed": true
   },
   "outputs": [],
   "source": [
    "def count(A):\n",
    "    labels = set()\n",
    "    stat = dict()\n",
    "    for row in AL:\n",
    "        labels = labels | set(row)\n",
    "    for label in list(labels):\n",
    "        col = A.shape[0]*A.shape[1] - np.count_nonzero(AL - label)\n",
    "        stat[label] = round(col*100.0 / float(A.shape[0]*A.shape[1]), 2)\n",
    "    return stat"
   ]
  },
  {
   "cell_type": "markdown",
   "metadata": {},
   "source": [
    "### Распределение класстеров в %: "
   ]
  },
  {
   "cell_type": "code",
   "execution_count": 20,
   "metadata": {},
   "outputs": [
    {
     "data": {
      "text/plain": [
       "{0.0: 28.13,\n",
       " 4.0: 0.39,\n",
       " 9.0: 0.39,\n",
       " 10.0: 0.39,\n",
       " 14.0: 2.73,\n",
       " 19.0: 67.58,\n",
       " 20.0: 0.39}"
      ]
     },
     "execution_count": 20,
     "metadata": {},
     "output_type": "execute_result"
    }
   ],
   "source": [
    "D = count(AL)\n",
    "D"
   ]
  },
  {
   "cell_type": "code",
   "execution_count": null,
   "metadata": {
    "collapsed": true
   },
   "outputs": [],
   "source": []
  }
 ],
 "metadata": {
  "kernelspec": {
   "display_name": "Python 2",
   "language": "python",
   "name": "python2"
  },
  "language_info": {
   "codemirror_mode": {
    "name": "ipython",
    "version": 2
   },
   "file_extension": ".py",
   "mimetype": "text/x-python",
   "name": "python",
   "nbconvert_exporter": "python",
   "pygments_lexer": "ipython2",
   "version": "2.7.13"
  }
 },
 "nbformat": 4,
 "nbformat_minor": 2
}
