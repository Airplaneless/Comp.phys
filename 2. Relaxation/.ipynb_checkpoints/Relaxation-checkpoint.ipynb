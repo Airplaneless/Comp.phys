{
 "cells": [
  {
   "cell_type": "code",
   "execution_count": 1,
   "metadata": {
    "collapsed": true
   },
   "outputs": [],
   "source": [
    "import numpy as np\n",
    "from relax import Solver "
   ]
  },
  {
   "cell_type": "markdown",
   "metadata": {},
   "source": [
    "#### Значения на границе и функции, определяющие начальное приближение"
   ]
  },
  {
   "cell_type": "code",
   "execution_count": 17,
   "metadata": {},
   "outputs": [],
   "source": [
    "BOUND_VAL1 = 10.0\n",
    "BOUND_VAL2 = 5.0\n",
    "\n",
    "func1 = lambda x,y: (x**2 + y**2)/BOUND_VAL1\n",
    "func2 = lambda x,y: x*0+y*0"
   ]
  },
  {
   "cell_type": "markdown",
   "metadata": {},
   "source": [
    "#### Инициализируется сетка и начальные значения"
   ]
  },
  {
   "cell_type": "code",
   "execution_count": 19,
   "metadata": {},
   "outputs": [],
   "source": [
    "mesh = Solver.make_mesh(0.1, 10)\n",
    "init1 = Solver.eval_func(func1, mesh)\n",
    "init2 = Solver.eval_func(func2, mesh)\n",
    "init2[50][50] = 5"
   ]
  },
  {
   "cell_type": "markdown",
   "metadata": {},
   "source": [
    "#### 1. Граничные условия - 10 В на границе квадратной области"
   ]
  },
  {
   "cell_type": "code",
   "execution_count": 20,
   "metadata": {},
   "outputs": [],
   "source": [
    "# Set 1st boundary values\n",
    "bounds_1 = np.zeros(mesh[0].shape)\n",
    "for i in xrange(len(bounds_1)):\n",
    "    for j in xrange(len(bounds_1[i])):\n",
    "        if i==0 or i==len(bounds_1)-1 or j==0 or j==len(bounds_1[i])-1:\n",
    "            bounds_1[i][j] = BOUND_VAL1"
   ]
  },
  {
   "cell_type": "code",
   "execution_count": 23,
   "metadata": {},
   "outputs": [
    {
     "name": "stderr",
     "output_type": "stream",
     "text": [
      "100%|██████████| 100/100 [00:03<00:00, 30.46it/s]\n"
     ]
    },
    {
     "data": {
      "image/png": "[encoded data removed]",
      "text/plain": [
       "<matplotlib.figure.Figure at 0x7f62584fb250>"
      ]
     },
     "metadata": {},
     "output_type": "display_data"
    }
   ],
   "source": [
    "solver = Solver(mesh, init2, bounds_1)\n",
    "results = solver.solve(100, True)"
   ]
  },
  {
   "cell_type": "code",
   "execution_count": null,
   "metadata": {},
   "outputs": [],
   "source": [
    "solver.show_values()"
   ]
  },
  {
   "cell_type": "code",
   "execution_count": null,
   "metadata": {
    "collapsed": true
   },
   "outputs": [],
   "source": [
    "# Set 2st boundary values\n",
    "bounds_2 = np.zeros(mesh[0].shape)\n",
    "for i in xrange(len(bounds_2)):\n",
    "    for j in xrange(len(bounds_2[i])):\n",
    "        if i==0 or i==len(bounds_2)-1:\n",
    "            bounds_2[i][j] = BOUND_VAL1\n",
    "        elif j==0 or j==len(bounds_2)-1:\n",
    "            bounds_2[i][j] = BOUND_VAL2"
   ]
  },
  {
   "cell_type": "code",
   "execution_count": null,
   "metadata": {},
   "outputs": [],
   "source": [
    "solver = Solver(mesh, init1, bounds_2)\n",
    "results = solver.solve(100, True)"
   ]
  },
  {
   "cell_type": "code",
   "execution_count": null,
   "metadata": {},
   "outputs": [],
   "source": [
    "solver.show_values()"
   ]
  },
  {
   "cell_type": "code",
   "execution_count": null,
   "metadata": {
    "collapsed": true
   },
   "outputs": [],
   "source": []
  }
 ],
 "metadata": {
  "kernelspec": {
   "display_name": "Python 2",
   "language": "python",
   "name": "python2"
  },
  "language_info": {
   "codemirror_mode": {
    "name": "ipython",
    "version": 2
   },
   "file_extension": ".py",
   "mimetype": "text/x-python",
   "name": "python",
   "nbconvert_exporter": "python",
   "pygments_lexer": "ipython2",
   "version": "2.7.13"
  }
 },
 "nbformat": 4,
 "nbformat_minor": 2
}
